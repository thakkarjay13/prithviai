{
  "nbformat": 4,
  "nbformat_minor": 0,
  "metadata": {
    "colab": {
      "name": "Copy of final.ipynb",
      "provenance": []
    },
    "kernelspec": {
      "name": "python3",
      "display_name": "Python 3"
    }
  },
  "cells": [
    {
      "cell_type": "code",
      "metadata": {
        "id": "4Hp3MUyM9jXw",
        "colab": {
          "base_uri": "https://localhost:8080/"
        },
        "outputId": "6b24030e-0ca6-4a00-fa89-4ca9ef79b4d0"
      },
      "source": [
        "from google.colab import drive\n",
        "drive.mount('/content/drive')"
      ],
      "execution_count": 1,
      "outputs": [
        {
          "output_type": "stream",
          "text": [
            "Drive already mounted at /content/drive; to attempt to forcibly remount, call drive.mount(\"/content/drive\", force_remount=True).\n"
          ],
          "name": "stdout"
        }
      ]
    },
    {
      "cell_type": "code",
      "metadata": {
        "id": "EWz13KCE9yAL",
        "colab": {
          "base_uri": "https://localhost:8080/"
        },
        "outputId": "8342a78a-7598-406c-a15d-9ae6facbbd22"
      },
      "source": [
        "!ls \"drive/MyDrive/prithviai/Data\""
      ],
      "execution_count": 2,
      "outputs": [
        {
          "output_type": "stream",
          "text": [
            "raw  val\n"
          ],
          "name": "stdout"
        }
      ]
    },
    {
      "cell_type": "markdown",
      "metadata": {
        "id": "lMbCdq3Zdqcu"
      },
      "source": [
        "# Include Libraries"
      ]
    },
    {
      "cell_type": "code",
      "metadata": {
        "id": "hRbd-TAw988H"
      },
      "source": [
        "import pandas as pd\n",
        "import numpy as np\n",
        "import os\n",
        "from sklearn.ensemble import RandomForestClassifier\n",
        "from datetime import datetime\n",
        "from sklearn.metrics import accuracy_score\n",
        "import pickle\n",
        "from glob import glob\n",
        "from sklearn.model_selection import train_test_split\n",
        "import matplotlib.pyplot as plt\n",
        "import seaborn as sns\n"
      ],
      "execution_count": 3,
      "outputs": []
    },
    {
      "cell_type": "markdown",
      "metadata": {
        "id": "Y0H-GkaYdyG-"
      },
      "source": [
        "# Data Loading and Pre-Processing"
      ]
    },
    {
      "cell_type": "markdown",
      "metadata": {
        "id": "uw-S3Roeo9kR"
      },
      "source": [
        "## Loading Files"
      ]
    },
    {
      "cell_type": "code",
      "metadata": {
        "id": "IdqWSv_YpR5L"
      },
      "source": [
        ""
      ],
      "execution_count": 3,
      "outputs": []
    },
    {
      "cell_type": "code",
      "metadata": {
        "id": "lMTf5-Yn9-_0"
      },
      "source": [
        "def Pre_processing(path):\n",
        "  total_files = []\n",
        "  for home,dir,files in os.walk(path):\n",
        "    for each_file in files:\n",
        "      if each_file.endswith('.txt'):\n",
        "        with open(os.path.join(home,each_file), 'r') as f:\n",
        "          lines = f.read()\n",
        "          sp = lines.split(';\\n')\n",
        "          total = []\n",
        "          for i in range(len(sp)):\n",
        "            j = sp[i].split(',')\n",
        "            total.append(j)\n",
        "          total_files = total_files + total\n",
        "  return total_files"
      ],
      "execution_count": 4,
      "outputs": []
    },
    {
      "cell_type": "code",
      "metadata": {
        "id": "FCNP4z_0KNdS"
      },
      "source": [
        "def get_subdir(path):\n",
        "  total = []\n",
        "  paths = glob(path + \"/*/*/\")\n",
        "  for path in paths:\n",
        "    print(str(path))\n",
        "    total.append(Pre_processing(str(path)))\n",
        "  return total"
      ],
      "execution_count": 5,
      "outputs": []
    },
    {
      "cell_type": "markdown",
      "metadata": {
        "id": "ALYrgcCUpKkB"
      },
      "source": [
        "## Convert To Pandas Dataframe"
      ]
    },
    {
      "cell_type": "code",
      "metadata": {
        "id": "nBNuEIWypQ3i"
      },
      "source": [
        ""
      ],
      "execution_count": 5,
      "outputs": []
    },
    {
      "cell_type": "code",
      "metadata": {
        "id": "l05pMo0hLdZr"
      },
      "source": [
        "def transform(data):\n",
        "    data = data[:-1]\n",
        "    data = pd.DataFrame(data, columns = ['Subject-id', 'Activity Label', 'Timestamp', 'x', 'y', 'z'])\n",
        "    return data"
      ],
      "execution_count": 6,
      "outputs": []
    },
    {
      "cell_type": "code",
      "metadata": {
        "id": "tPKKpkmpd6UI"
      },
      "source": [
        "def mandatory(path):\n",
        "  ans = get_subdir(path)\n",
        "  total = []\n",
        "  for i in ans:\n",
        "    total = total + i\n",
        "  train = transform(total)\n",
        "  return train"
      ],
      "execution_count": 7,
      "outputs": []
    },
    {
      "cell_type": "code",
      "metadata": {
        "id": "TWOJAXRDL4-a"
      },
      "source": [
        "def convert(data):\n",
        "\n",
        "  data['Timestamp'] = pd.to_numeric(data['Timestamp'])\n",
        "  data['Subject-id'] = pd.to_numeric(data['Subject-id'])\n",
        "  data['x'] = pd.to_numeric(data['x'])\n",
        "  data['y'] = pd.to_numeric(data['y'])\n",
        "  data['z'] = pd.to_numeric(data['z'])\n",
        "  data = data.dropna(subset = ['Subject-id','Timestamp', 'Activity Label','x', 'y', 'z'])\n",
        "  label = data['Activity Label'].unique()\n",
        "\n",
        "\n",
        "  l={}\n",
        "  n=0\n",
        "  for i in label:\n",
        "      l[i] = n+1\n",
        "      n+=1\n",
        "\n",
        "  data['Activity Label'] = data['Activity Label'].apply(lambda x: l[x])\n",
        "  return data"
      ],
      "execution_count": 8,
      "outputs": []
    },
    {
      "cell_type": "code",
      "metadata": {
        "id": "Fgo0lSIRd-2J"
      },
      "source": [
        ""
      ],
      "execution_count": 8,
      "outputs": []
    },
    {
      "cell_type": "code",
      "metadata": {
        "id": "ZaTxEIukn4bx",
        "colab": {
          "base_uri": "https://localhost:8080/"
        },
        "outputId": "e719f8be-b86c-4b74-af50-5eebbbc6c545"
      },
      "source": [
        "train_path = 'drive/MyDrive/prithviai/Data/raw/train/'\n",
        "train = mandatory(train_path)\n"
      ],
      "execution_count": 9,
      "outputs": [
        {
          "output_type": "stream",
          "text": [
            "drive/MyDrive/prithviai/Data/raw/train/phone/gyro/\n",
            "drive/MyDrive/prithviai/Data/raw/train/phone/accel/\n",
            "drive/MyDrive/prithviai/Data/raw/train/watch/accel/\n",
            "drive/MyDrive/prithviai/Data/raw/train/watch/gyro/\n"
          ],
          "name": "stdout"
        }
      ]
    },
    {
      "cell_type": "markdown",
      "metadata": {
        "id": "Ry7tNOYn17gT"
      },
      "source": [
        "## Data Visulization"
      ]
    },
    {
      "cell_type": "code",
      "metadata": {
        "colab": {
          "base_uri": "https://localhost:8080/"
        },
        "id": "9tX3MUGFpZFW",
        "outputId": "ece5ddc5-151a-4c6e-c363-a50266129da1"
      },
      "source": [
        "train.info()"
      ],
      "execution_count": 10,
      "outputs": [
        {
          "output_type": "stream",
          "text": [
            "<class 'pandas.core.frame.DataFrame'>\n",
            "RangeIndex: 5575089 entries, 0 to 5575088\n",
            "Data columns (total 6 columns):\n",
            " #   Column          Dtype \n",
            "---  ------          ----- \n",
            " 0   Subject-id      object\n",
            " 1   Activity Label  object\n",
            " 2   Timestamp       object\n",
            " 3   x               object\n",
            " 4   y               object\n",
            " 5   z               object\n",
            "dtypes: object(6)\n",
            "memory usage: 255.2+ MB\n"
          ],
          "name": "stdout"
        }
      ]
    },
    {
      "cell_type": "code",
      "metadata": {
        "colab": {
          "base_uri": "https://localhost:8080/"
        },
        "id": "t6CTBuvqpkv2",
        "outputId": "a94cbe71-58ac-4722-e4f9-789719b6c17b"
      },
      "source": [
        "train.shape"
      ],
      "execution_count": 11,
      "outputs": [
        {
          "output_type": "execute_result",
          "data": {
            "text/plain": [
              "(5575089, 6)"
            ]
          },
          "metadata": {
            "tags": []
          },
          "execution_count": 11
        }
      ]
    },
    {
      "cell_type": "code",
      "metadata": {
        "id": "Eh9x44NNL68t",
        "colab": {
          "base_uri": "https://localhost:8080/"
        },
        "outputId": "6a2ee990-547c-4567-e6dc-05810ecf4708"
      },
      "source": [
        "print(train.isnull().values.any())"
      ],
      "execution_count": 12,
      "outputs": [
        {
          "output_type": "stream",
          "text": [
            "True\n"
          ],
          "name": "stdout"
        }
      ]
    },
    {
      "cell_type": "code",
      "metadata": {
        "id": "qraPmkp6A293",
        "colab": {
          "base_uri": "https://localhost:8080/"
        },
        "outputId": "b1be0b49-877c-4caf-a32e-687f96d4a34f"
      },
      "source": [
        "print(train['Activity Label'].value_counts())"
      ],
      "execution_count": 13,
      "outputs": [
        {
          "output_type": "stream",
          "text": [
            "P    326432\n",
            "M    322790\n",
            "K    319861\n",
            "A    316410\n",
            "L    316264\n",
            "H    315551\n",
            "I    312049\n",
            "C    310189\n",
            "O    309299\n",
            "J    307813\n",
            "S    306874\n",
            "D    305053\n",
            "Q    305052\n",
            "E    304954\n",
            "R    304814\n",
            "G    304798\n",
            "F    297731\n",
            "B    289076\n",
            "Name: Activity Label, dtype: int64\n"
          ],
          "name": "stdout"
        }
      ]
    },
    {
      "cell_type": "code",
      "metadata": {
        "colab": {
          "base_uri": "https://localhost:8080/",
          "height": 675
        },
        "id": "UOAKi5lXqLsM",
        "outputId": "44b66522-2fb4-441a-806a-a3bc4827bf47"
      },
      "source": [
        "plt.figure(figsize = (20,10))\n",
        "sns.countplot(train['Activity Label'])\n",
        "plt.xlabel('Activity Label')\n",
        "plt.ylabel('count')\n",
        "plt.title('Frequency of Activities in Train')\n",
        "plt.show()"
      ],
      "execution_count": 14,
      "outputs": [
        {
          "output_type": "stream",
          "text": [
            "/usr/local/lib/python3.6/dist-packages/seaborn/_decorators.py:43: FutureWarning: Pass the following variable as a keyword arg: x. From version 0.12, the only valid positional argument will be `data`, and passing other arguments without an explicit keyword will result in an error or misinterpretation.\n",
            "  FutureWarning\n"
          ],
          "name": "stderr"
        },
        {
          "output_type": "display_data",
          "data": {
            "image/png": "[encoded data removed]",
            "text/plain": [
              "<Figure size 1440x720 with 1 Axes>"
            ]
          },
          "metadata": {
            "tags": [],
            "needs_background": "light"
          }
        }
      ]
    },
    {
      "cell_type": "code",
      "metadata": {
        "colab": {
          "base_uri": "https://localhost:8080/",
          "height": 528
        },
        "id": "TtgXrAZoqPFh",
        "outputId": "2d3ad72c-dbe8-45de-b96e-6e55ea646f49"
      },
      "source": [
        "stack_group = train.groupby(['Subject-id','Activity Label']).size().unstack()\n",
        "stack_group.plot(kind='bar',stacked=True, figsize=(17, 8), title = 'Activity count w.r.t Subjects in train')\n",
        "plt.show()"
      ],
      "execution_count": 15,
      "outputs": [
        {
          "output_type": "display_data",
          "data": {
            "image/png": "[encoded data removed]",
            "text/plain": [
              "<Figure size 1224x576 with 1 Axes>"
            ]
          },
          "metadata": {
            "tags": [],
            "needs_background": "light"
          }
        }
      ]
    },
    {
      "cell_type": "code",
      "metadata": {
        "id": "uLZ2NF7gqQmC"
      },
      "source": [
        ""
      ],
      "execution_count": 15,
      "outputs": []
    },
    {
      "cell_type": "code",
      "metadata": {
        "colab": {
          "base_uri": "https://localhost:8080/"
        },
        "id": "0DtKW_D2Mae5",
        "outputId": "c1e14ef2-8ffd-414f-8dc9-ff9cfcb549cb"
      },
      "source": [
        "test_path = 'drive/MyDrive/prithviai/Data/raw/test/'\n",
        "test = mandatory(test_path)\n"
      ],
      "execution_count": 16,
      "outputs": [
        {
          "output_type": "stream",
          "text": [
            "drive/MyDrive/prithviai/Data/raw/test/watch/accel/\n",
            "drive/MyDrive/prithviai/Data/raw/test/watch/gyro/\n",
            "drive/MyDrive/prithviai/Data/raw/test/phone/gyro/\n",
            "drive/MyDrive/prithviai/Data/raw/test/phone/accel/\n"
          ],
          "name": "stdout"
        }
      ]
    },
    {
      "cell_type": "code",
      "metadata": {
        "colab": {
          "base_uri": "https://localhost:8080/"
        },
        "id": "m9F_qxH7qa9z",
        "outputId": "34c21863-224f-47f6-b65c-266c0f28cb7c"
      },
      "source": [
        "test.info()"
      ],
      "execution_count": 17,
      "outputs": [
        {
          "output_type": "stream",
          "text": [
            "<class 'pandas.core.frame.DataFrame'>\n",
            "RangeIndex: 4266386 entries, 0 to 4266385\n",
            "Data columns (total 6 columns):\n",
            " #   Column          Dtype \n",
            "---  ------          ----- \n",
            " 0   Subject-id      object\n",
            " 1   Activity Label  object\n",
            " 2   Timestamp       object\n",
            " 3   x               object\n",
            " 4   y               object\n",
            " 5   z               object\n",
            "dtypes: object(6)\n",
            "memory usage: 195.3+ MB\n"
          ],
          "name": "stdout"
        }
      ]
    },
    {
      "cell_type": "code",
      "metadata": {
        "id": "cXV6po8Sqn6l"
      },
      "source": [
        ""
      ],
      "execution_count": 17,
      "outputs": []
    },
    {
      "cell_type": "code",
      "metadata": {
        "colab": {
          "base_uri": "https://localhost:8080/"
        },
        "id": "5o95ES0Vqfec",
        "outputId": "7555df6b-b50f-42b0-f5f6-7417e83f15b7"
      },
      "source": [
        "print(test.isnull().values.any())"
      ],
      "execution_count": 18,
      "outputs": [
        {
          "output_type": "stream",
          "text": [
            "True\n"
          ],
          "name": "stdout"
        }
      ]
    },
    {
      "cell_type": "code",
      "metadata": {
        "colab": {
          "base_uri": "https://localhost:8080/"
        },
        "id": "AeopeXSBqbBN",
        "outputId": "36d317bd-9773-43a6-9d9a-317641268bbb"
      },
      "source": [
        "print(test['Activity Label'].value_counts())"
      ],
      "execution_count": 19,
      "outputs": [
        {
          "output_type": "stream",
          "text": [
            "E    254010\n",
            "K    248869\n",
            "Q    247684\n",
            "G    244279\n",
            "B    243794\n",
            "S    242737\n",
            "R    242200\n",
            "D    241924\n",
            "A    238685\n",
            "I    234942\n",
            "F    233184\n",
            "O    231527\n",
            "M    230931\n",
            "H    228832\n",
            "C    228180\n",
            "L    225801\n",
            "P    225440\n",
            "J    223312\n",
            "Name: Activity Label, dtype: int64\n"
          ],
          "name": "stdout"
        }
      ]
    },
    {
      "cell_type": "code",
      "metadata": {
        "colab": {
          "base_uri": "https://localhost:8080/",
          "height": 675
        },
        "id": "w1lJaIJnqvdX",
        "outputId": "1c134500-2654-4fab-9a5b-bc52c9d8049e"
      },
      "source": [
        "plt.figure(figsize = (20,10))\n",
        "sns.countplot(test['Activity Label'])\n",
        "plt.xlabel('Activity Label')\n",
        "plt.ylabel('count')\n",
        "plt.title('Frequency of Activities in Test')\n",
        "plt.show()"
      ],
      "execution_count": 20,
      "outputs": [
        {
          "output_type": "stream",
          "text": [
            "/usr/local/lib/python3.6/dist-packages/seaborn/_decorators.py:43: FutureWarning: Pass the following variable as a keyword arg: x. From version 0.12, the only valid positional argument will be `data`, and passing other arguments without an explicit keyword will result in an error or misinterpretation.\n",
            "  FutureWarning\n"
          ],
          "name": "stderr"
        },
        {
          "output_type": "display_data",
          "data": {
            "image/png": "[encoded data removed]",
            "text/plain": [
              "<Figure size 1440x720 with 1 Axes>"
            ]
          },
          "metadata": {
            "tags": [],
            "needs_background": "light"
          }
        }
      ]
    },
    {
      "cell_type": "code",
      "metadata": {
        "colab": {
          "base_uri": "https://localhost:8080/",
          "height": 528
        },
        "id": "a1-kYOABq099",
        "outputId": "78dd1842-339f-45db-80ac-1c3f858ed6b8"
      },
      "source": [
        "stack_group = test.groupby(['Subject-id','Activity Label']).size().unstack()\n",
        "stack_group.plot(kind='bar',stacked=True, figsize=(17, 8), title = 'Activity count w.r.t Subjects in test')\n",
        "plt.show()"
      ],
      "execution_count": 21,
      "outputs": [
        {
          "output_type": "display_data",
          "data": {
            "image/png": "[encoded data removed]",
            "text/plain": [
              "<Figure size 1224x576 with 1 Axes>"
            ]
          },
          "metadata": {
            "tags": [],
            "needs_background": "light"
          }
        }
      ]
    },
    {
      "cell_type": "code",
      "metadata": {
        "id": "3vdZqwylq3aC"
      },
      "source": [
        ""
      ],
      "execution_count": 21,
      "outputs": []
    },
    {
      "cell_type": "code",
      "metadata": {
        "colab": {
          "base_uri": "https://localhost:8080/"
        },
        "id": "IrVbGfCjqY_R",
        "outputId": "33db5abb-38c8-4fb3-a29b-5a2a7cf80fad"
      },
      "source": [
        "train = convert(train)"
      ],
      "execution_count": 22,
      "outputs": [
        {
          "output_type": "stream",
          "text": [
            "/usr/local/lib/python3.6/dist-packages/ipykernel_launcher.py:18: SettingWithCopyWarning: \n",
            "A value is trying to be set on a copy of a slice from a DataFrame.\n",
            "Try using .loc[row_indexer,col_indexer] = value instead\n",
            "\n",
            "See the caveats in the documentation: https://pandas.pydata.org/pandas-docs/stable/user_guide/indexing.html#returning-a-view-versus-a-copy\n"
          ],
          "name": "stderr"
        }
      ]
    },
    {
      "cell_type": "code",
      "metadata": {
        "colab": {
          "base_uri": "https://localhost:8080/"
        },
        "id": "AnTYHwmuLBgZ",
        "outputId": "876a5722-c9e9-4818-ac30-310e31fa0008"
      },
      "source": [
        "test = convert(test)"
      ],
      "execution_count": 23,
      "outputs": [
        {
          "output_type": "stream",
          "text": [
            "/usr/local/lib/python3.6/dist-packages/ipykernel_launcher.py:18: SettingWithCopyWarning: \n",
            "A value is trying to be set on a copy of a slice from a DataFrame.\n",
            "Try using .loc[row_indexer,col_indexer] = value instead\n",
            "\n",
            "See the caveats in the documentation: https://pandas.pydata.org/pandas-docs/stable/user_guide/indexing.html#returning-a-view-versus-a-copy\n"
          ],
          "name": "stderr"
        }
      ]
    },
    {
      "cell_type": "code",
      "metadata": {
        "colab": {
          "base_uri": "https://localhost:8080/"
        },
        "id": "QRplMWN9MukR",
        "outputId": "b8cb0d2b-dd34-4c90-cd7c-a95609a550ec"
      },
      "source": [
        "test.shape"
      ],
      "execution_count": 24,
      "outputs": [
        {
          "output_type": "execute_result",
          "data": {
            "text/plain": [
              "(4266331, 6)"
            ]
          },
          "metadata": {
            "tags": []
          },
          "execution_count": 24
        }
      ]
    },
    {
      "cell_type": "code",
      "metadata": {
        "colab": {
          "base_uri": "https://localhost:8080/"
        },
        "id": "4PdhnMJjKAWL",
        "outputId": "1be6f200-b34e-4471-c4bf-1c4237b7aff2"
      },
      "source": [
        "test.dtypes"
      ],
      "execution_count": 25,
      "outputs": [
        {
          "output_type": "execute_result",
          "data": {
            "text/plain": [
              "Subject-id        float64\n",
              "Activity Label      int64\n",
              "Timestamp         float64\n",
              "x                 float64\n",
              "y                 float64\n",
              "z                 float64\n",
              "dtype: object"
            ]
          },
          "metadata": {
            "tags": []
          },
          "execution_count": 25
        }
      ]
    },
    {
      "cell_type": "code",
      "metadata": {
        "colab": {
          "base_uri": "https://localhost:8080/",
          "height": 204
        },
        "id": "-H1Ok7qwNdLz",
        "outputId": "ef18cacb-14c7-418b-de33-7b8d6e63574d"
      },
      "source": [
        "test.head()"
      ],
      "execution_count": 26,
      "outputs": [
        {
          "output_type": "execute_result",
          "data": {
            "text/html": [
              "<div>\n",
              "<style scoped>\n",
              "    .dataframe tbody tr th:only-of-type {\n",
              "        vertical-align: middle;\n",
              "    }\n",
              "\n",
              "    .dataframe tbody tr th {\n",
              "        vertical-align: top;\n",
              "    }\n",
              "\n",
              "    .dataframe thead th {\n",
              "        text-align: right;\n",
              "    }\n",
              "</style>\n",
              "<table border=\"1\" class=\"dataframe\">\n",
              "  <thead>\n",
              "    <tr style=\"text-align: right;\">\n",
              "      <th></th>\n",
              "      <th>Subject-id</th>\n",
              "      <th>Activity Label</th>\n",
              "      <th>Timestamp</th>\n",
              "      <th>x</th>\n",
              "      <th>y</th>\n",
              "      <th>z</th>\n",
              "    </tr>\n",
              "  </thead>\n",
              "  <tbody>\n",
              "    <tr>\n",
              "      <th>0</th>\n",
              "      <td>1621.0</td>\n",
              "      <td>1</td>\n",
              "      <td>1.772671e+14</td>\n",
              "      <td>-4.213646</td>\n",
              "      <td>-7.393744</td>\n",
              "      <td>2.106898</td>\n",
              "    </tr>\n",
              "    <tr>\n",
              "      <th>1</th>\n",
              "      <td>1621.0</td>\n",
              "      <td>1</td>\n",
              "      <td>1.772671e+14</td>\n",
              "      <td>-4.910358</td>\n",
              "      <td>-9.230097</td>\n",
              "      <td>0.617704</td>\n",
              "    </tr>\n",
              "    <tr>\n",
              "      <th>2</th>\n",
              "      <td>1621.0</td>\n",
              "      <td>1</td>\n",
              "      <td>1.772672e+14</td>\n",
              "      <td>-4.857686</td>\n",
              "      <td>-9.110387</td>\n",
              "      <td>2.248155</td>\n",
              "    </tr>\n",
              "    <tr>\n",
              "      <th>3</th>\n",
              "      <td>1621.0</td>\n",
              "      <td>1</td>\n",
              "      <td>1.772672e+14</td>\n",
              "      <td>-4.314202</td>\n",
              "      <td>-7.678654</td>\n",
              "      <td>3.311181</td>\n",
              "    </tr>\n",
              "    <tr>\n",
              "      <th>4</th>\n",
              "      <td>1621.0</td>\n",
              "      <td>1</td>\n",
              "      <td>1.772673e+14</td>\n",
              "      <td>-3.562422</td>\n",
              "      <td>-5.772869</td>\n",
              "      <td>4.359841</td>\n",
              "    </tr>\n",
              "  </tbody>\n",
              "</table>\n",
              "</div>"
            ],
            "text/plain": [
              "   Subject-id  Activity Label     Timestamp         x         y         z\n",
              "0      1621.0               1  1.772671e+14 -4.213646 -7.393744  2.106898\n",
              "1      1621.0               1  1.772671e+14 -4.910358 -9.230097  0.617704\n",
              "2      1621.0               1  1.772672e+14 -4.857686 -9.110387  2.248155\n",
              "3      1621.0               1  1.772672e+14 -4.314202 -7.678654  3.311181\n",
              "4      1621.0               1  1.772673e+14 -3.562422 -5.772869  4.359841"
            ]
          },
          "metadata": {
            "tags": []
          },
          "execution_count": 26
        }
      ]
    },
    {
      "cell_type": "code",
      "metadata": {
        "id": "nEG20_pRNJhY"
      },
      "source": [
        "train = train.sample(frac=1).reset_index(drop=True)\n",
        "test = test.sample(frac=1).reset_index(drop=True)\n",
        "data=pd.DataFrame()\n",
        "data=pd.concat([train,test])"
      ],
      "execution_count": 27,
      "outputs": []
    },
    {
      "cell_type": "markdown",
      "metadata": {
        "id": "Y7ClQQuj2VmM"
      },
      "source": [
        "# Training"
      ]
    },
    {
      "cell_type": "markdown",
      "metadata": {
        "id": "_1llIcU22ZtT"
      },
      "source": [
        "## Train-Test Split"
      ]
    },
    {
      "cell_type": "code",
      "metadata": {
        "id": "0tiFt4HVNJko"
      },
      "source": [
        "y=data[\"Activity Label\"]\n",
        "x=data.drop(columns=\"Activity Label\")\n",
        "x_train, x_test, y_train, y_test = train_test_split(x,y , train_size = 0.7, random_state =  42)"
      ],
      "execution_count": 28,
      "outputs": []
    },
    {
      "cell_type": "code",
      "metadata": {
        "id": "xsieWswjr6we"
      },
      "source": [
        ""
      ],
      "execution_count": 28,
      "outputs": []
    },
    {
      "cell_type": "code",
      "metadata": {
        "id": "BKJ3Sadme43m"
      },
      "source": [
        ""
      ],
      "execution_count": 28,
      "outputs": []
    },
    {
      "cell_type": "markdown",
      "metadata": {
        "id": "8sDdfrn92dvg"
      },
      "source": [
        "## K-Nearest Neighbor Algorithm"
      ]
    },
    {
      "cell_type": "code",
      "metadata": {
        "id": "8rrpWxM7Oi4R"
      },
      "source": [
        "import time\n",
        "t0=time.time()\n",
        "from sklearn.neighbors import KNeighborsClassifier\n",
        "# K Nearest Neighbors\n",
        "clf = KNeighborsClassifier(n_neighbors=7).fit(x_train, y_train)\n",
        "\n"
      ],
      "execution_count": 29,
      "outputs": []
    },
    {
      "cell_type": "markdown",
      "metadata": {
        "id": "zPr2XM3V2jS5"
      },
      "source": [
        "## Prediction"
      ]
    },
    {
      "cell_type": "code",
      "metadata": {
        "colab": {
          "base_uri": "https://localhost:8080/"
        },
        "id": "-IJEwT2JOvxX",
        "outputId": "e71afcb5-3199-4af2-b91e-d415a135c22e"
      },
      "source": [
        "y_predict = clf.predict(x_test)\n",
        "score = accuracy_score(y_test,y_predict)\n",
        "print('Accuracy :',score)\n",
        "print('Time taken :' , time.time()-t0)"
      ],
      "execution_count": 30,
      "outputs": [
        {
          "output_type": "stream",
          "text": [
            "Accuracy : 0.7691849656025955\n",
            "Time taken : 281.4570748806\n"
          ],
          "name": "stdout"
        }
      ]
    },
    {
      "cell_type": "markdown",
      "metadata": {
        "id": "X6t2r-s82mvQ"
      },
      "source": [
        "## Saving The Model"
      ]
    },
    {
      "cell_type": "code",
      "metadata": {
        "id": "c90dtnfXOwyC"
      },
      "source": [
        "filename = 'knn_final.sav'\n",
        "pickle.dump(clf, open(filename, 'wb'))"
      ],
      "execution_count": 31,
      "outputs": []
    },
    {
      "cell_type": "code",
      "metadata": {
        "id": "Z5mcbC-hU-gQ"
      },
      "source": [
        ""
      ],
      "execution_count": 31,
      "outputs": []
    },
    {
      "cell_type": "code",
      "metadata": {
        "id": "I_clCKfVxoI4"
      },
      "source": [
        ""
      ],
      "execution_count": null,
      "outputs": []
    },
    {
      "cell_type": "code",
      "metadata": {
        "id": "RHL6sTQ-dUHG"
      },
      "source": [
        ""
      ],
      "execution_count": null,
      "outputs": []
    },
    {
      "cell_type": "code",
      "metadata": {
        "id": "63N2zzJ_makn"
      },
      "source": [
        ""
      ],
      "execution_count": null,
      "outputs": []
    },
    {
      "cell_type": "code",
      "metadata": {
        "id": "9Gtknd65mant"
      },
      "source": [
        ""
      ],
      "execution_count": 37,
      "outputs": []
    },
    {
      "cell_type": "code",
      "metadata": {
        "id": "rJXjCia40guh"
      },
      "source": [
        ""
      ],
      "execution_count": 38,
      "outputs": []
    },
    {
      "cell_type": "markdown",
      "metadata": {
        "id": "lHmU9gi22xff"
      },
      "source": [
        "# Testing on Custom Data"
      ]
    },
    {
      "cell_type": "code",
      "metadata": {
        "id": "jiSQLv0-2wh0"
      },
      "source": [
        "#give the path\n",
        "valid_path = 'drive/MyDrive/prithviai/Data/valid/'"
      ],
      "execution_count": 39,
      "outputs": []
    },
    {
      "cell_type": "code",
      "metadata": {
        "id": "o41E5Jnp21IN"
      },
      "source": [
        "valid = mandatory(valid_path)\n",
        "valid = convert(valid)"
      ],
      "execution_count": null,
      "outputs": []
    },
    {
      "cell_type": "code",
      "metadata": {
        "id": "K0P7nu633Fqp"
      },
      "source": [
        "valid = valid.sample(frac=1).reset_index(drop=True)\n",
        "y_valid=valid[\"Activity Label\"]\n",
        "x_valid=valid.drop(columns=\"Activity Label\")"
      ],
      "execution_count": null,
      "outputs": []
    },
    {
      "cell_type": "code",
      "metadata": {
        "id": "EaVZxUPq3ScJ"
      },
      "source": [
        "filename = 'knn_final.sav'\n",
        "loaded_model = pickle.load(open(filename, 'rb'))\n",
        "result = loaded_model.score(x_valid, y_valid)"
      ],
      "execution_count": null,
      "outputs": []
    },
    {
      "cell_type": "code",
      "metadata": {
        "id": "KIuG0EyS3kRJ"
      },
      "source": [
        ""
      ],
      "execution_count": null,
      "outputs": []
    }
  ]
}